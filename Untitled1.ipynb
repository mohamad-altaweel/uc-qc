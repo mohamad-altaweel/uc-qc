{
 "cells": [
  {
   "cell_type": "code",
   "execution_count": null,
   "metadata": {},
   "outputs": [],
   "source": [
    "pip install azure-quantum"
   ]
  },
  {
   "cell_type": "code",
   "execution_count": 1,
   "metadata": {
    "jupyter": {
     "outputs_hidden": false,
     "source_hidden": false
    },
    "nteract": {
     "transient": {
      "deleting": false
     }
    }
   },
   "outputs": [],
   "source": [
    "class thermal_generator:\n",
    "    \n",
    "    def __init__(self,power_out_min, power_out_max, time_up_min, time_down_min,must_run, \n",
    "                 ramp_up, ramp_down, cost, A_D, A_U ):\n",
    "        self.time_up_min = time_up_min\n",
    "        self.time_down_min = time_down_min\n",
    "        self.must_run = must_run\n",
    "        self.ramp_up = ramp_up\n",
    "        self.ramp_down = ramp_down\n",
    "        self.cost = cost\n",
    "        self.A_D = A_D\n",
    "        self.A_U = A_U\n",
    "        self.power_level = []\n",
    "        self.power_level.append(0)\n",
    "        self.power_level.extend([x for x in range(round(power_out_min), round(power_out_max + 1))])\n",
    "    \n",
    "    def print_all_info(self):\n",
    "        print(\"Minimum time up : {}\".format(self.time_up_min))\n",
    "        print(\"Minimum time down : {}\".format(self.time_down_min))\n",
    "        print(\"Must run time : {}\".format(self.must_run))\n",
    "        print(\"Ramp up : {}\".format(self.ramp_up))\n",
    "        print(\"Ramp down : {}\".format(self.ramp_down))\n",
    "        print(\"Costs : {} \".format(self.cost))\n",
    "        print(\"Start up cost : {}\".format(self.A_U))\n",
    "        print(\"Start down cost : {}\".format(self.A_D))\n",
    "        print(\"Power levels : {}\".format(self.power_level))"
   ]
  },
  {
   "cell_type": "code",
   "execution_count": 2,
   "metadata": {
    "jupyter": {
     "outputs_hidden": false,
     "source_hidden": false
    },
    "nteract": {
     "transient": {
      "deleting": false
     }
    }
   },
   "outputs": [],
   "source": [
    "class wind_generator:\n",
    "    \n",
    "    def __init__(self,power_output_max):\n",
    "        self.power_level = []\n",
    "        for level in power_output_max:\n",
    "            self.power_level.append([x for x in range(0, level+1)])\n",
    "        self.time_up_min = 0\n",
    "        self.time_down_min = 0\n",
    "        self.must_run = 0\n",
    "        self.ramp_up = 0\n",
    "        self.ramp_down = 0\n",
    "        self.cost = 0\n",
    "        self.A_D = 0\n",
    "        self.A_U = 0\n",
    "        \n",
    "    def print_all_info(self):\n",
    "        print(\"power maximum output : {}\".format(self.power_level))"
   ]
  },
  {
   "cell_type": "code",
   "execution_count": 3,
   "metadata": {
    "jupyter": {
     "outputs_hidden": false,
     "source_hidden": false
    },
    "nteract": {
     "transient": {
      "deleting": false
     }
    }
   },
   "outputs": [],
   "source": [
    "class network:\n",
    "    \n",
    "    def __init__(self, time_period, demand, reserves, thermal_gen = [], renewable_gen = []):\n",
    "        self.time_period = time_period\n",
    "        self.demand = demand\n",
    "        self.reserves = reserves\n",
    "        self.thermal_gen = thermal_gen\n",
    "        self.renewable_gen = renewable_gen\n",
    "    \n",
    "    def add_thermal_generator(self, thermal_generator):\n",
    "        self.thermal_gen.append(thermal_generator)\n",
    "    \n",
    "    def add_renewable_generator(self, renew_generator):\n",
    "        self.renewable_gen.append(renew_generator)\n",
    "    \n",
    "    def print_all_info(self):\n",
    "        print(\"Time period : {}\".format(self.time_period))\n",
    "        print(\"Demand(Loads) over time : {}\".format(self.demand))\n",
    "        print(\"reserves over time : {}\".format(self.reserves))\n",
    "        print(\"Number of Thermal generators : {}\".format(len(self.thermal_gen)))\n",
    "        print(\"Number of renewable generators : {}\".format(len(self.renewable_gen)))"
   ]
  },
  {
   "cell_type": "code",
   "execution_count": 4,
   "metadata": {
    "jupyter": {
     "outputs_hidden": false,
     "source_hidden": false
    },
    "nteract": {
     "transient": {
      "deleting": false
     }
    }
   },
   "outputs": [],
   "source": [
    "def create_thermal_generator(json_object):\n",
    "    return thermal_generator(json_object['power_output_minimum'],json_object['power_output_maximum'],\n",
    "                             json_object['time_up_minimum'], json_object['time_down_minimum'],\n",
    "                            json_object['must_run'],json_object['ramp_up_limit'],json_object['ramp_down_limit'],\n",
    "                            json_object['piecewise_production'][0]['cost'],\n",
    "                            json_object['startup'][0]['cost'],\n",
    "                            json_object['startup'][1]['cost'],)\n",
    "\n",
    "def create_renewable_generator():\n",
    "    pass\n",
    "\n",
    "def create_network(json_object):\n",
    "    net = network(json_object['time_periods'],json_object['demand'],json_object['reserves'])\n",
    "    for x in json_object['thermal_generators']:\n",
    "        gen = create_thermal_generator(json_object['thermal_generators'][x])\n",
    "        net.add_thermal_generator(gen)\n",
    "    return net"
   ]
  },
  {
   "cell_type": "code",
   "execution_count": null,
   "metadata": {},
   "outputs": [],
   "source": [
    "import json\n",
    "#from model import *\n",
    "# JSON file\n",
    "f = open ('data/increasing_loads/example-4.json', \"r\")\n",
    "# Reading from file\n",
    "data = json.loads(f.read())\n",
    "net = create_network(data)\n",
    "net.print_all_info()"
   ]
  },
  {
   "cell_type": "code",
   "execution_count": null,
   "metadata": {},
   "outputs": [],
   "source": [
    "net.print_all_info()"
   ]
  },
  {
   "cell_type": "code",
   "execution_count": 5,
   "metadata": {},
   "outputs": [
    {
     "name": "stderr",
     "output_type": "stream",
     "text": [
      "c:\\users\\mhd-a\\appdata\\local\\programs\\python\\python37\\lib\\site-packages\\ipykernel_launcher.py:24: DeprecationWarning: Call to deprecated method login. (This method is deprecated and no longer necessary to be called) -- Deprecated since version 0.17.2105.\n"
     ]
    },
    {
     "data": {
      "text/plain": [
       "<azure.quantum._authentication._default._DefaultAzureCredential at 0x249105f8e88>"
      ]
     },
     "execution_count": 5,
     "metadata": {},
     "output_type": "execute_result"
    }
   ],
   "source": [
    "# Import dependencies\n",
    "import numpy as np\n",
    "import os\n",
    "import time\n",
    "import math\n",
    "import requests\n",
    "import json\n",
    "import datetime  \n",
    "\n",
    "from azure.quantum import Workspace\n",
    "from azure.quantum.optimization import Problem, ProblemType,SlcTerm, Term, HardwarePlatform, Solver\n",
    "from azure.quantum.optimization import SimulatedAnnealing, ParallelTempering, HardwarePlatform, Tabu, SubstochasticMonteCarlo, PopulationAnnealing\n",
    "from typing import List\n",
    "\n",
    "# Connect to your Azure Quantum Workspace\n",
    "workspace = Workspace (\n",
    "    subscription_id = \"7f531633-caca-4fbf-a4ef-4a5c581a1815\",  # Add your subscription_id\n",
    "    resource_group = \"AzureQuantum\",   # Add your resource_group\n",
    "    name = \"QUCstuttgart\",             # Add your workspace name\n",
    "    location = \"eastus\"          # Add your workspace location (for example, \"westus\")\n",
    ")\n",
    "\n",
    "# Open the browser and sign in with the generated code (on first login)\n",
    "workspace.login()"
   ]
  },
  {
   "cell_type": "code",
   "execution_count": 6,
   "metadata": {},
   "outputs": [],
   "source": [
    "A = 11\n",
    "B = 2\n",
    "C = 23\n",
    "A_U = 5\n",
    "A_D = 3\n",
    "MUT = 2\n",
    "MDT = 1\n",
    "UR = 200\n",
    "DR = 1000\n",
    "MRU = 0\n",
    "PowerMatrix = np.array([[1, 1, 2],\n",
    "                      [50, 60, 30],\n",
    "                      [90, 85, 99]])\n",
    "\n",
    "TimeHorizon = 5\n",
    "l = np.array([0, 40, 120, 200, 130, 10, 200, 600, 800, 700, 360, 120])\n",
    "SR = np.array([0, 40, 0, 0, 0, 10, 20, 0, 0, 4, 70, 0])\n",
    "\n",
    "def map_variable(i,k,t, K, T):\n",
    "    return (i* T*K) + (t*K) + k"
   ]
  },
  {
   "cell_type": "code",
   "execution_count": 7,
   "metadata": {},
   "outputs": [],
   "source": [
    "def UCproblem(net:network) -> Problem:\n",
    "    terms = []\n",
    "    ##### Cost function\n",
    "    for t in range(0, net.time_period):\n",
    "        for i in range(0, len(net.thermal_gen)):\n",
    "            for k in range(0, len(net.thermal_gen[i].power_level)):\n",
    "                #terms.append(Term(c = A, indices = [map_variable(i,k,t,PowerMatrix.shape[0],len(l))]))\n",
    "                terms.append(Term(c = net.thermal_gen[i].cost * net.thermal_gen[i].power_level[k], indices = [map_variable(i,k,t,len(net.thermal_gen[i].power_level),net.time_period)] ))\n",
    "                #terms.append(Term(c = int(C * PowerMatrix.item((k,i)) * PowerMatrix.item((k,i))), indices = [map_variable(i,k,t,PowerMatrix.shape[0],len(l))] ))\n",
    "                if t == 0:\n",
    "                    terms.append(Term(c = net.thermal_gen[i].A_U, indices = [map_variable(i,k,t,len(net.thermal_gen[i].power_level),net.time_period)]))\n",
    "                if t > 0:\n",
    "                    terms.append(Term(c = net.thermal_gen[i].A_U, indices = [map_variable(i,k,t,len(net.thermal_gen[i].power_level),net.time_period)] ))\n",
    "                    terms.append(Term(c = net.thermal_gen[i].A_D, indices = [map_variable(i,k,t-1,len(net.thermal_gen[i].power_level),net.time_period)] ))\n",
    "                    terms.append(Term(c = int(-1 * (net.thermal_gen[i].A_U + net.thermal_gen[i].A_D)),\n",
    "                                      indices = [map_variable(i,k,t,len(net.thermal_gen[i].power_level),net.time_period),\n",
    "                                                map_variable(i,k,t-1,len(net.thermal_gen[i].power_level),net.time_period)]))\n",
    "    ### Constraint\n",
    "    ## Power demand\n",
    "    for t in range(0, net.time_period):\n",
    "        terms.append(Term(c = int(net.demand[t] * net.demand[t]), indices = [] ))\n",
    "        for i in range(0, len(net.thermal_gen)):\n",
    "            for k in range(0, len(net.thermal_gen[i].power_level)):\n",
    "                terms.append(Term(c = int(-2 * net.demand[t] * net.thermal_gen[i].power_level[k] ), indices = [map_variable(i,k,t,len(net.thermal_gen[i].power_level),net.time_period)]))\n",
    "        for i in range(0, len(net.thermal_gen)):\n",
    "            for k in range(0, len(net.thermal_gen[i].power_level)):\n",
    "                terms.append(Term(c = net.thermal_gen[i].power_level[k],indices = [map_variable(i,k,t,len(net.thermal_gen[i].power_level),net.time_period),\n",
    "                                                    map_variable(i,k,t,len(net.thermal_gen[i].power_level),net.time_period)]))\n",
    "                for j in range(0, i):\n",
    "                    for z in range(0, k):                \n",
    "                        terms.append(Term(c = 2 * net.thermal_gen[i].power_level[k] * net.thermal_gen[j].power_level[z],\n",
    "                                          indices = [map_variable(i,k,t,len(net.thermal_gen[i].power_level),net.time_period),\n",
    "                                                    map_variable(j,z,t,len(net.thermal_gen[i].power_level),net.time_period)]))\n",
    "    ## Only one level can be on at the same time\n",
    "    for t in range(0, net.time_period):\n",
    "        subterms = [] \n",
    "        for i in range(0, len(net.thermal_gen)):\n",
    "            for k in range(0, len(net.thermal_gen[i].power_level)):\n",
    "                subterms.append(Term(c = 1, indices = [map_variable(i,k,t,len(net.thermal_gen[i].power_level),net.time_period)]))\n",
    "        subterms.append(Term(c=-1, indices=[]))\n",
    "        terms.append(SlcTerm(subterms))\n",
    "    ## Minimum Up-time Constraint\n",
    "    for t in range(1, net.time_period):\n",
    "        for i in range(0, len(net.thermal_gen)):\n",
    "            for k in range(0, len(net.thermal_gen[i].power_level)):\n",
    "                subterms = []\n",
    "                subterms.append(Term(c = 1 + net.thermal_gen[i].time_up_min, indices=[]))\n",
    "                for z in range(t, min(t + net.thermal_gen[i].time_up_min, net.time_period)):\n",
    "                    subterms.append(Term(c = -1,indices=[map_variable(i,k,z,len(net.thermal_gen[i].power_level),net.time_period)] ))\n",
    "                terms.append(SlcTerm(subterms))\n",
    "    ## Minimum Down-Time Constraint\n",
    "    for t in range(1, net.time_period):\n",
    "        for i in range(0, len(net.thermal_gen)):\n",
    "            for k in range(0, len(net.thermal_gen[i].power_level)):\n",
    "                subterms = []\n",
    "                subterms.append(Term(c = 1 , indices=[]))\n",
    "                for z in range(t, min(t + net.thermal_gen[i].time_down_min, net.time_period)):\n",
    "                    subterms.append(Term(c = -1,indices=[map_variable(i,k,z,len(net.thermal_gen[i].power_level),net.time_period)] ))\n",
    "                terms.append(SlcTerm(subterms))\n",
    "    ### Ramp rate up/down constraint\n",
    "    for t in range(1, net.time_period):\n",
    "        for i in range(0, len(net.thermal_gen)):\n",
    "            for k in range(0, len(net.thermal_gen[i].power_level)):\n",
    "                for l in range(0, len(net.thermal_gen[i].power_level)):\n",
    "                    subterms = []\n",
    "                    subterms.append(Term(c = int(1 - net.thermal_gen[i].ramp_up), indices=[]))\n",
    "                    subterms.append(Term(c = int(-1)* net.thermal_gen[i].power_level[l], indices=[map_variable(i,l,t-1,len(net.thermal_gen[i].power_level),net.time_period)]))                \n",
    "                    subterms.append(Term(c = int(1)* net.thermal_gen[i].power_level[k], indices=[map_variable(i,k,t,len(net.thermal_gen[i].power_level),net.time_period)]))\n",
    "                    terms.append(SlcTerm(subterms))\n",
    "    for t in range(1, net.time_period):\n",
    "        for i in range(0, len(net.thermal_gen)):\n",
    "            for k in range(0, len(net.thermal_gen[i].power_level)):\n",
    "                for l in range(0, len(net.thermal_gen[i].power_level)):\n",
    "                subterms = []\n",
    "                subterms.append(Term(c = int(1 - net.thermal_gen[i].ramp_down), indices=[]))\n",
    "                subterms.append(Term(c = int(1) * net.thermal_gen[i].power_level[l], indices=[map_variable(i,l,t-1,len(net.thermal_gen[i].power_level),net.time_period)]))                \n",
    "                subterms.append(Term(c = int(-1)* net.thermal_gen[i].power_level[k], indices=[map_variable(i,k,t,len(net.thermal_gen[i].power_level),net.time_period)]))\n",
    "                terms.append(SlcTerm(subterms))\n",
    "    #Spinning reserves constraint\n",
    "    for t in range(1, net.time_period):\n",
    "        subterms = []\n",
    "        subterms.append(Term(c = int(net.demand[t] + net.reserves[t] + 1), indices=[]))\n",
    "        for i in range(0, len(net.thermal_gen)):\n",
    "            for k in range(0, len(net.thermal_gen[i].power_level)):\n",
    "                subterms.append(Term(c = int(-1 * net.thermal_gen[i].power_level[k]), indices = [map_variable(i,k,t,len(net.thermal_gen[i].power_level),net.time_period)] ))\n",
    "        terms.append(SlcTerm(subterms))\n",
    "    # Must run units\n",
    "    for t in range(1, net.time_period):\n",
    "        subterms = []\n",
    "        subterms.append(Term(c = MRU, indices=[]))\n",
    "        for i in range(0, len(net.thermal_gen)):\n",
    "            for k in range(0, len(net.thermal_gen[i].power_level)):\n",
    "                subterms.append(Term(c = int(-1), indices = [map_variable(i,k,t,len(net.thermal_gen[i].power_level),net.time_period)] ))\n",
    "        terms.append(SlcTerm(subterms))\n",
    "    return Problem(name=\"Unit Commitment\", problem_type=ProblemType.pubo, terms=terms)"
   ]
  },
  {
   "cell_type": "code",
   "execution_count": 8,
   "metadata": {
    "scrolled": true
   },
   "outputs": [],
   "source": [
    "# Instantiate a solver to solve the problem.\n",
    "solver = PopulationAnnealing(workspace)\n",
    "\n",
    "# Optimize the problem\n",
    "#print('Submitting problem...')\n",
    "#job = solver.submit(OptimizationProblem)\n",
    "#print(job.id)"
   ]
  },
  {
   "cell_type": "code",
   "execution_count": 9,
   "metadata": {},
   "outputs": [
    {
     "name": "stdout",
     "output_type": "stream",
     "text": [
      "Submitting problem...\n",
      "04b77dca-f8d5-11ec-94cc-e4aaeac94a1a\n"
     ]
    }
   ],
   "source": [
    "f_test = open ('data/increasing_loads/example-12.json', \"r\")\n",
    "# Reading from file\n",
    "data_test = json.loads(f_test.read())\n",
    "net_test= create_network(data_test)\n",
    "print('Submitting problem...')\n",
    "OptimizationProblem_to = UCproblem(net_test)\n",
    "job_to = solver.submit(OptimizationProblem_to)\n",
    "print(job_to.id)"
   ]
  },
  {
   "cell_type": "code",
   "execution_count": null,
   "metadata": {},
   "outputs": [],
   "source": [
    "job.refresh()\n",
    "print(job.details.status)"
   ]
  },
  {
   "cell_type": "code",
   "execution_count": null,
   "metadata": {},
   "outputs": [],
   "source": [
    "jobId = \"76adad3a-d176-11ec-b1e9-e4aaeac94a1a\"\n",
    "job = workspace.get_job(jobId)\n",
    "result = job.get_results()\n",
    "print(result)"
   ]
  },
  {
   "cell_type": "code",
   "execution_count": null,
   "metadata": {},
   "outputs": [],
   "source": [
    "print(job.details)"
   ]
  },
  {
   "cell_type": "code",
   "execution_count": null,
   "metadata": {},
   "outputs": [],
   "source": [
    "jobId = \"6c9fd546-be69-11ec-ac0e-e4aaeac94a1a\"\n",
    "job = workspace.get_job(jobId)\n",
    "result = job.get_results()\n",
    "print(result)"
   ]
  },
  {
   "cell_type": "code",
   "execution_count": null,
   "metadata": {},
   "outputs": [],
   "source": [
    "type(round(0.6))"
   ]
  },
  {
   "cell_type": "code",
   "execution_count": null,
   "metadata": {},
   "outputs": [],
   "source": []
  }
 ],
 "metadata": {
  "kernel_info": {
   "name": "python3"
  },
  "kernelspec": {
   "display_name": "Python 3",
   "language": "python",
   "name": "python3"
  },
  "language_info": {
   "codemirror_mode": {
    "name": "ipython",
    "version": 3
   },
   "file_extension": ".py",
   "mimetype": "text/x-python",
   "name": "python",
   "nbconvert_exporter": "python",
   "pygments_lexer": "ipython3",
   "version": "3.7.8"
  },
  "nteract": {
   "version": "nteract-front-end@1.0.0"
  }
 },
 "nbformat": 4,
 "nbformat_minor": 4
}
