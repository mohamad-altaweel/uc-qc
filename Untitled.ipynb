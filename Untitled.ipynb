{
 "cells": [
  {
   "cell_type": "code",
   "execution_count": 1,
   "metadata": {},
   "outputs": [],
   "source": [
    "class thermal_generator:\n",
    "    \n",
    "    def __init__(self,power_out_min, power_out_max, time_up_min, time_down_min,must_run, \n",
    "                 ramp_up, ramp_down, cost, A_D, A_U ):\n",
    "        self.time_up_min = time_up_min\n",
    "        self.time_down_min = time_down_min\n",
    "        self.must_run = must_run\n",
    "        self.ramp_up = ramp_up\n",
    "        self.ramp_down = ramp_down\n",
    "        self.cost = cost\n",
    "        self.A_D = A_D\n",
    "        self.A_U = A_U\n",
    "        self.power_level = []\n",
    "        self.power_level.append(0)\n",
    "        self.power_level.extend([x for x in range(int(power_out_min), int(power_out_max + 1))])\n",
    "    \n",
    "    def print_all_info(self):\n",
    "        print(\"Minimum time up : {}\".format(self.time_up_min))\n",
    "        print(\"Minimum time down : {}\".format(self.time_down_min))\n",
    "        print(\"Must run time : {}\".format(self.must_run))\n",
    "        print(\"Ramp up : {}\".format(self.ramp_up))\n",
    "        print(\"Ramp down : {}\".format(self.ramp_down))\n",
    "        print(\"Costs : {} \".format(self.cost))\n",
    "        print(\"Start up cost : {}\".format(self.A_U))\n",
    "        print(\"Start down cost : {}\".format(self.A_D))\n",
    "        print(\"Power levels : {}\".format(self.power_level))"
   ]
  },
  {
   "cell_type": "code",
   "execution_count": 2,
   "metadata": {},
   "outputs": [
    {
     "name": "stdout",
     "output_type": "stream",
     "text": [
      "Minimum time up : 2\n",
      "Minimum time down : 2\n",
      "Must run time : 0\n",
      "Ramp up : 20.3\n",
      "Ramp down : 30.5\n",
      "Costs : 5 \n",
      "Start up cost : 200\n",
      "Start down cost : 20\n",
      "Power levels : [0, 5, 6, 7, 8, 9, 10]\n"
     ]
    }
   ],
   "source": [
    "gen111 = thermal_generator(5, 10,2,2,0,20.3,30.5,5,20,200)\n",
    "gen111.print_all_info()"
   ]
  },
  {
   "cell_type": "code",
   "execution_count": 3,
   "metadata": {},
   "outputs": [],
   "source": [
    "class wind_generator:\n",
    "    \n",
    "    def __init__(self,power_output_max):\n",
    "        self.power_level = []\n",
    "        for level in power_output_max:\n",
    "            self.power_level.append([x for x in range(0, level+1)])\n",
    "        self.time_up_min = 0\n",
    "        self.time_down_min = 0\n",
    "        self.must_run = 0\n",
    "        self.ramp_up = 0\n",
    "        self.ramp_down = 0\n",
    "        self.cost = 0\n",
    "        self.A_D = 0\n",
    "        self.A_U = 0\n",
    "        \n",
    "    def print_all_info(self):\n",
    "        print(\"power maximum output : {}\".format(self.power_level))"
   ]
  },
  {
   "cell_type": "code",
   "execution_count": 4,
   "metadata": {},
   "outputs": [
    {
     "name": "stdout",
     "output_type": "stream",
     "text": [
      "power maximum output : [[0, 1], [0, 1, 2, 3, 4, 5], [0, 1, 2, 3, 4, 5], [0, 1, 2, 3, 4, 5, 6, 7, 8], [0, 1, 2, 3, 4, 5, 6, 7], [0, 1, 2, 3, 4, 5]]\n"
     ]
    }
   ],
   "source": [
    "win12 = wind_generator([1,5,5,8,7,5])\n",
    "win12.print_all_info()"
   ]
  },
  {
   "cell_type": "code",
   "execution_count": 5,
   "metadata": {},
   "outputs": [],
   "source": [
    "class network:\n",
    "    \n",
    "    def __init__(self, time_period, demand, reserves, thermal_gen = [], renewable_gen = []):\n",
    "        self.time_period = time_period\n",
    "        self.demand = demand\n",
    "        self.reserves = reserves\n",
    "        self.thermal_gen = thermal_gen\n",
    "        self.renewable_gen = renewable_gen\n",
    "    \n",
    "    def add_thermal_generator(self, thermal_generator):\n",
    "        self.thermal_gen.append(thermal_generator)\n",
    "    \n",
    "    def add_renewable_generator(self, renew_generator):\n",
    "        self.renewable_gen.append(renew_generator)\n",
    "    \n",
    "    def print_all_info(self):\n",
    "        print(\"Time period : {}\".format(self.time_period))\n",
    "        print(\"Demand(Loads) over time : {}\".format(self.demand))\n",
    "        print(\"reserves over time : {}\".format(self.reserves))\n",
    "        print(\"Number of Thermal generators : {}\".format(len(self.thermal_gen)))\n",
    "        print(\"Number of renewable generators : {}\".format(len(self.renewable_gen)))"
   ]
  },
  {
   "cell_type": "code",
   "execution_count": 6,
   "metadata": {},
   "outputs": [
    {
     "name": "stdout",
     "output_type": "stream",
     "text": [
      "Time period : 7\n",
      "Demand(Loads) over time : [0, 0, 0, 0, 0, 0, 0]\n",
      "reserves over time : [0, 0, 0, 0, 0, 0, 0]\n",
      "Number of Thermal generators : 1\n",
      "Number of renewable generators : 1\n"
     ]
    }
   ],
   "source": [
    "network_dummy = network(7, [0,0,0,0,0,0,0],[0,0,0,0,0,0,0])\n",
    "network_dummy.add_thermal_generator(gen111)\n",
    "network_dummy.add_renewable_generator(win12)\n",
    "network_dummy.print_all_info()"
   ]
  },
  {
   "cell_type": "code",
   "execution_count": 14,
   "metadata": {},
   "outputs": [],
   "source": [
    "def create_thermal_generator(json_object):\n",
    "    return thermal_generator(json_object['power_output_minimum'],json_object['power_output_maximum'],\n",
    "                             json_object['time_up_minimum'], json_object['time_down_minimum'],\n",
    "                            json_object['must_run'],json_object['ramp_up_limit'],json_object['ramp_down_limit'],\n",
    "                            json_object['piecewise_production'][0]['cost'],\n",
    "                            json_object['startup'][0]['cost'],\n",
    "                            json_object['startup'][1]['cost'],)\n",
    "\n",
    "def create_renewable_generator():\n",
    "    pass\n",
    "\n",
    "def create_network(json_object):\n",
    "    net = network(json_object['time_periods'],json_object['demand'],json_object['reserves'])\n",
    "    for x in json_object['thermal_generators']:\n",
    "        gen = create_thermal_generator(json_object['thermal_generators'][x])\n",
    "        net.add_thermal_generator(gen)\n",
    "    return net"
   ]
  },
  {
   "cell_type": "code",
   "execution_count": 15,
   "metadata": {},
   "outputs": [],
   "source": [
    "import json\n",
    "# JSON file\n",
    "f = open ('data/example.json', \"r\")\n",
    "# Reading from file\n",
    "data = json.loads(f.read())\n",
    "net = create_network(data)"
   ]
  },
  {
   "cell_type": "code",
   "execution_count": 16,
   "metadata": {},
   "outputs": [
    {
     "name": "stdout",
     "output_type": "stream",
     "text": [
      "Time period : 48\n",
      "Demand(Loads) over time : [25004.85, 23563.11, 22579.56, 21998.37, 21897.14, 22080.66, 22441.54, 22809.65, 24328.47, 26209.48, 27958.44, 29659.39, 31155.2, 32766.2, 34384.97, 35753.75, 36643.63, 36856.37, 36126.45, 35547.5, 35277.79, 33081.83, 30115.5, 27221.49, 25004.85, 23563.11, 22579.56, 21998.37, 21897.14, 22080.66, 22441.54, 22809.65, 24328.47, 26209.48, 27958.44, 29659.39, 31155.2, 32766.2, 34384.97, 35753.75, 36643.63, 36856.37, 36126.45, 35547.5, 35277.79, 33081.83, 30115.5, 27221.49]\n",
      "reserves over time : [0.0, 0.0, 0.0, 0.0, 0.0, 0.0, 0.0, 0.0, 0.0, 0.0, 0.0, 0.0, 0.0, 0.0, 0.0, 0.0, 0.0, 0.0, 0.0, 0.0, 0.0, 0.0, 0.0, 0.0, 0.0, 0.0, 0.0, 0.0, 0.0, 0.0, 0.0, 0.0, 0.0, 0.0, 0.0, 0.0, 0.0, 0.0, 0.0, 0.0, 0.0, 0.0, 0.0, 0.0, 0.0, 0.0, 0.0, 0.0]\n",
      "Number of Thermal generators : 611\n",
      "Number of renewable generators : 1\n"
     ]
    }
   ],
   "source": [
    "net.print_all_info()"
   ]
  },
  {
   "cell_type": "code",
   "execution_count": null,
   "metadata": {},
   "outputs": [],
   "source": []
  }
 ],
 "metadata": {
  "kernelspec": {
   "display_name": "Python 3",
   "language": "python",
   "name": "python3"
  },
  "language_info": {
   "codemirror_mode": {
    "name": "ipython",
    "version": 3
   },
   "file_extension": ".py",
   "mimetype": "text/x-python",
   "name": "python",
   "nbconvert_exporter": "python",
   "pygments_lexer": "ipython3",
   "version": "3.7.8"
  }
 },
 "nbformat": 4,
 "nbformat_minor": 4
}
