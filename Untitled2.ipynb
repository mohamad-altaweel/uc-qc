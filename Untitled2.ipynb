{
 "cells": [
  {
   "cell_type": "code",
   "execution_count": 1,
   "metadata": {},
   "outputs": [],
   "source": [
    "class thermal_generator:\n",
    "    \n",
    "    def __init__(self,power_out_min, power_out_max, time_up_min, time_down_min,must_run, \n",
    "                 ramp_up, ramp_down, cost, A_D, A_U ):\n",
    "        self.time_up_min = time_up_min\n",
    "        self.time_down_min = time_down_min\n",
    "        self.must_run = must_run\n",
    "        self.ramp_up = ramp_up\n",
    "        self.ramp_down = ramp_down\n",
    "        self.cost = cost\n",
    "        self.A_D = A_D\n",
    "        self.A_U = A_U\n",
    "        self.power_level = []\n",
    "        self.power_level.append(0)\n",
    "        self.power_level.extend([x for x in range(round(power_out_min), round(power_out_max))])\n",
    "    \n",
    "    def print_all_info(self):\n",
    "        print(\"Minimum time up : {}\".format(self.time_up_min))\n",
    "        print(\"Minimum time down : {}\".format(self.time_down_min))\n",
    "        print(\"Must run time : {}\".format(self.must_run))\n",
    "        print(\"Ramp up : {}\".format(self.ramp_up))\n",
    "        print(\"Ramp down : {}\".format(self.ramp_down))\n",
    "        print(\"Costs : {} \".format(self.cost))\n",
    "        print(\"Start up cost : {}\".format(self.A_U))\n",
    "        print(\"Start down cost : {}\".format(self.A_D))\n",
    "        print(\"Power levels : {}\".format(self.power_level))"
   ]
  },
  {
   "cell_type": "code",
   "execution_count": 2,
   "metadata": {},
   "outputs": [],
   "source": [
    "class wind_generator:\n",
    "    \n",
    "    def __init__(self,power_output_max):\n",
    "        self.power_level = []\n",
    "        for level in power_output_max:\n",
    "            self.power_level.append([x for x in range(0, level+1)])\n",
    "        self.time_up_min = 0\n",
    "        self.time_down_min = 0\n",
    "        self.must_run = 0\n",
    "        self.ramp_up = 0\n",
    "        self.ramp_down = 0\n",
    "        self.cost = 0\n",
    "        self.A_D = 0\n",
    "        self.A_U = 0\n",
    "        \n",
    "    def print_all_info(self):\n",
    "        print(\"power maximum output : {}\".format(self.power_level))"
   ]
  },
  {
   "cell_type": "code",
   "execution_count": 3,
   "metadata": {},
   "outputs": [],
   "source": [
    "class network:\n",
    "    \n",
    "    def __init__(self, time_period, demand, reserves, thermal_gen = [], renewable_gen = []):\n",
    "        self.time_period = time_period\n",
    "        self.demand = demand\n",
    "        self.reserves = reserves\n",
    "        self.thermal_gen = thermal_gen\n",
    "        self.renewable_gen = renewable_gen\n",
    "    \n",
    "    def add_thermal_generator(self, thermal_generator):\n",
    "        self.thermal_gen.append(thermal_generator)\n",
    "    \n",
    "    def add_renewable_generator(self, renew_generator):\n",
    "        self.renewable_gen.append(renew_generator)\n",
    "    \n",
    "    def print_all_info(self):\n",
    "        print(\"Time period : {}\".format(self.time_period))\n",
    "        print(\"Demand(Loads) over time : {}\".format(self.demand))\n",
    "        print(\"reserves over time : {}\".format(self.reserves))\n",
    "        print(\"Number of Thermal generators : {}\".format(len(self.thermal_gen)))\n",
    "        print(\"Number of renewable generators : {}\".format(len(self.renewable_gen)))"
   ]
  },
  {
   "cell_type": "code",
   "execution_count": 4,
   "metadata": {},
   "outputs": [],
   "source": [
    "def create_thermal_generator(json_object):\n",
    "    return thermal_generator(json_object['power_output_minimum'],json_object['power_output_maximum'],\n",
    "                             json_object['time_up_minimum'], json_object['time_down_minimum'],\n",
    "                            json_object['must_run'],json_object['ramp_up_limit'],json_object['ramp_down_limit'],\n",
    "                            json_object['piecewise_production'][0]['cost'],\n",
    "                            json_object['startup'][0]['cost'],\n",
    "                            json_object['startup'][1]['cost'],)\n",
    "\n",
    "def create_renewable_generator():\n",
    "    pass\n",
    "\n",
    "def create_network(json_object):\n",
    "    net = network(json_object['time_periods'],json_object['demand'],json_object['reserves'])\n",
    "    for x in json_object['thermal_generators']:\n",
    "        gen = create_thermal_generator(json_object['thermal_generators'][x])\n",
    "        net.add_thermal_generator(gen)\n",
    "    return net"
   ]
  },
  {
   "cell_type": "code",
   "execution_count": 5,
   "metadata": {},
   "outputs": [
    {
     "name": "stdout",
     "output_type": "stream",
     "text": [
      "Time period : 4\n",
      "Demand(Loads) over time : [26089.9326691, 24964.3953213, 24325.3179734, 24163.1706255]\n",
      "reserves over time : [782.6979800729999, 748.931859639, 729.759539202, 724.8951187649999]\n",
      "Number of Thermal generators : 6\n",
      "Number of renewable generators : 0\n"
     ]
    }
   ],
   "source": [
    "import json\n",
    "#from model import *\n",
    "# JSON file\n",
    "f = open ('data/exp2.json', \"r\")\n",
    "# Reading from file\n",
    "data = json.loads(f.read())\n",
    "net = create_network(data)\n",
    "net.print_all_info()"
   ]
  },
  {
   "cell_type": "code",
   "execution_count": 6,
   "metadata": {},
   "outputs": [],
   "source": [
    "from qiskit import BasicAer\n",
    "from qiskit.utils import algorithm_globals, QuantumInstance\n",
    "from qiskit.algorithms import QAOA, NumPyMinimumEigensolver\n",
    "from qiskit_optimization.algorithms import (\n",
    "    MinimumEigenOptimizer,\n",
    "    RecursiveMinimumEigenOptimizer,\n",
    "    SolutionSample,\n",
    "    OptimizationResultStatus,\n",
    ")\n",
    "from qiskit_optimization import QuadraticProgram\n",
    "from qiskit.visualization import plot_histogram\n",
    "from typing import List, Tuple\n",
    "import numpy as np"
   ]
  },
  {
   "cell_type": "code",
   "execution_count": null,
   "metadata": {},
   "outputs": [],
   "source": [
    "alphabet = {0:\"a\",1:\"b\",2:\"c\",3:\"d\",4:\"e\",5:\"f\",6:\"g\",7:\"h\",8:\"i\",9:\"j\"}\n",
    "\n",
    "def map_variable(i,k,t, K, T):\n",
    "    return (i* T*K) + (t*K) + k\n",
    "\n",
    "def return_var_name(i,k,t):\n",
    "    return \"u_{}_{}_{}\".format(i,k,t)\n",
    "\n",
    "def create_linear_dict(net):\n",
    "    dic ={}\n",
    "    for t in range(0, net.time_period):\n",
    "        for i in range(0, len(net.thermal_gen)):\n",
    "            for k in range(0, len(net.thermal_gen[i].power_level)):\n",
    "                dic[return_var_name(i,k,t)] = 0\n",
    "    return dic\n",
    "\n",
    "def create_quadratic_dict(net):\n",
    "    dic ={}\n",
    "    for t in range(0, net.time_period):\n",
    "        for i in range(0, len(net.thermal_gen)):\n",
    "            for k in range(0, len(net.thermal_gen[i].power_level)):\n",
    "                for z in range(0, net.time_period):\n",
    "                    for j in range(0, len(net.thermal_gen)):\n",
    "                        for l in range(0, len(net.thermal_gen[i].power_level)):\n",
    "                            dic[(return_var_name(i,k,t),return_var_name(j,l,z))] = 0\n",
    "    return dic"
   ]
  },
  {
   "cell_type": "code",
   "execution_count": null,
   "metadata": {},
   "outputs": [],
   "source": [
    "from numpy import array\n",
    "qubo = QuadraticProgram()\n",
    "constant = 0\n",
    "linear_terms = create_linear_dict(net)\n",
    "quadratic_terms = create_quadratic_dict(net)\n",
    "for i_io in range(7):\n",
    "    for j_jo in range(7):\n",
    "        for k_ko in range(7):\n",
    "            qubo.binary_var(return_var_name(i_io,j_jo,k_ko))\n",
    "print(qubo.export_as_lp_string())\n",
    "for t in range(0, net.time_period):\n",
    "    for i in range(0, len(net.thermal_gen)):\n",
    "        for k in range(0, len(net.thermal_gen[i].power_level)):\n",
    "            linear_terms[return_var_name(i,k,t)] = net.thermal_gen[i].cost\n",
    "            if t == 0:\n",
    "                linear_terms[return_var_name(i,k,t)] = linear_terms[return_var_name(i,k,t)] + net.thermal_gen[i].A_U\n",
    "            elif t > 0:\n",
    "                linear_terms[return_var_name(i,k,t)] = linear_terms[return_var_name(i,k,t)] + net.thermal_gen[i].A_U\n",
    "                linear_terms[return_var_name(i,k,t-1)] = linear_terms[return_var_name(i,k,t-1)] + net.thermal_gen[i].A_D\n",
    "                quadratic_terms[(return_var_name(i,k,t),return_var_name(i,k,t-1))] = quadratic_terms[(return_var_name(i,k,t),return_var_name(i,k,t-1))] + (-1* net.thermal_gen[i].A_U* net.thermal_gen[i].A_D)\n",
    "for t in range(0, net.time_period):\n",
    "    constant = constant + int(net.demand[t] * net.demand[t])\n",
    "    for i in range(0, len(net.thermal_gen)):\n",
    "        for k in range(0, len(net.thermal_gen[i].power_level)):\n",
    "            linear_terms[return_var_name(i,k,t)] = linear_terms[return_var_name(i,k,t)] + int(-2 * net.demand[t] *net.thermal_gen[i].power_level[k])\n",
    "    for i in range(0, len(net.thermal_gen)):\n",
    "        for k in range(0, len(net.thermal_gen[i].power_level)):\n",
    "            quadratic_terms[(return_var_name(i,k,t),return_var_name(i,k,t))] = quadratic_terms[(return_var_name(i,k,t),return_var_name(i,k,t))] + (net.thermal_gen[i].power_level[k]*net.thermal_gen[i].power_level[k])\n",
    "            for j in range(0, i):\n",
    "                for z in range(0, min(len(net.thermal_gen[j].power_level),k)):\n",
    "                    quadratic_terms[(return_var_name(i,k,t),return_var_name(j,z,t))] = quadratic_terms[(return_var_name(i,k,t),return_var_name(j,z,t))] + (2*net.thermal_gen[i].power_level[k]*net.thermal_gen[j].power_level[z])\n",
    "for t in range(0, net.time_period):\n",
    "    constant = constant + 1\n",
    "    for i in range(0, len(net.thermal_gen)):\n",
    "        for k in range(0, len(net.thermal_gen[i].power_level)):\n",
    "            linear_terms[return_var_name(i,k,t)] = linear_terms[return_var_name(i,k,t)]-2\n",
    "            quadratic_terms[(return_var_name(i,k,t),return_var_name(i,k,t))] = quadratic_terms[(return_var_name(i,k,t),return_var_name(i,k,t))] + 1\n",
    "for t in range(1, net.time_period):\n",
    "    for i in range(0, len(net.thermal_gen)):\n",
    "        for k in range(0, len(net.thermal_gen[i].power_level)):\n",
    "            constant = constant + (1 + net.thermal_gen[i].time_up_min) * (1 + net.thermal_gen[i].time_up_min)\n",
    "            for t_mut in range(t, min(t + net.thermal_gen[i].time_up_min, net.time_period)):\n",
    "                linear_terms[return_var_name(i,k,t_mut)] = linear_terms[return_var_name(i,k,t_mut)] + ((-2) * (1 +net.thermal_gen[i].time_up_min))\n",
    "                for j in range(0, i):\n",
    "                    for z in range(0, min(len(net.thermal_gen[j].power_level),k)):\n",
    "                        quadratic_terms[(return_var_name(i,k,t_mut),return_var_name(j,z,t_mut))] = quadratic_terms[(return_var_name(i,k,t_mut),return_var_name(j,z,t_mut))] + (2*net.thermal_gen[i].power_level[k]*net.thermal_gen[j].power_level[z])\n",
    "for t in range(1, net.time_period):\n",
    "    for i in range(0, len(net.thermal_gen)):\n",
    "        for k in range(0, len(net.thermal_gen[i].power_level)):\n",
    "            constant = constant + 1 \n",
    "            for t_mut in range(t, min(t + net.thermal_gen[i].time_down_min, net.time_period)):\n",
    "                linear_terms[return_var_name(i,k,t_mut)] = linear_terms[return_var_name(i,k,t_mut)] -2\n",
    "                for j in range(0, i):\n",
    "                    for z in range(0, min(len(net.thermal_gen[j].power_level),k)): \n",
    "                        quadratic_terms[(return_var_name(i,k,t_mut),return_var_name(j,z,t_mut))] = quadratic_terms[(return_var_name(i,k,t_mut),return_var_name(j,z,t_mut))] + (2*net.thermal_gen[i].power_level[k]*net.thermal_gen[j].power_level[z])\n",
    "for t in range(1, net.time_period):\n",
    "    for i in range(0, len(net.thermal_gen)):\n",
    "        for k in range(0, len(net.thermal_gen[i].power_level)):\n",
    "            for l in range(0, len(net.thermal_gen[i].power_level)):\n",
    "                constant = constant  + (int(1 - net.thermal_gen[i].ramp_up) * int(1 - net.thermal_gen[i].ramp_up))\n",
    "                linear_terms[return_var_name(i,k,t)] = linear_terms[return_var_name(i,k,t)] + (2 * (1 -net.thermal_gen[i].ramp_up ) * net.thermal_gen[i].power_level[k])\n",
    "                linear_terms[return_var_name(i,l,t-1)] = linear_terms[return_var_name(i,l,t-1)] + (2 * (1 -net.thermal_gen[i].ramp_up ) * -net.thermal_gen[i].power_level[l])\n",
    "                quadratic_terms[(return_var_name(i,k,t),return_var_name(i,k,t))] = quadratic_terms[(return_var_name(i,k,t),return_var_name(i,k,t))] + (net.thermal_gen[i].power_level[k]* net.thermal_gen[i].power_level[k])\n",
    "                quadratic_terms[(return_var_name(i,l,t-1),return_var_name(i,l,t-1))] = quadratic_terms[(return_var_name(i,l,t-1),return_var_name(i,l,t-1))] + (net.thermal_gen[i].power_level[l]* net.thermal_gen[i].power_level[l])\n",
    "                quadratic_terms[(return_var_name(i,k,t),return_var_name(i,l,t-1))] = quadratic_terms[(return_var_name(i,k,t),return_var_name(i,l,t-1))] - 2*(net.thermal_gen[i].power_level[l]* net.thermal_gen[i].power_level[k])\n",
    "for t in range(1, net.time_period):\n",
    "    for i in range(0, len(net.thermal_gen)):\n",
    "        for k in range(0, len(net.thermal_gen[i].power_level)):\n",
    "            for l in range(0, len(net.thermal_gen[i].power_level)):\n",
    "                constant = constant  + (int(1 - net.thermal_gen[i].ramp_down) * int(1 - net.thermal_gen[i].ramp_up))\n",
    "                linear_terms[return_var_name(i,k,t)] = linear_terms[return_var_name(i,k,t)] + (2 * (1 -net.thermal_gen[i].ramp_down ) * -net.thermal_gen[i].power_level[k])\n",
    "                linear_terms[return_var_name(i,l,t-1)] = linear_terms[return_var_name(i,l,t-1)] + (2 * (1 -net.thermal_gen[i].ramp_down ) * net.thermal_gen[i].power_level[l])\n",
    "                quadratic_terms[(return_var_name(i,k,t),return_var_name(i,k,t))] = quadratic_terms[(return_var_name(i,k,t),return_var_name(i,k,t))] + (net.thermal_gen[i].power_level[k]* net.thermal_gen[i].power_level[k])\n",
    "                quadratic_terms[(return_var_name(i,l,t-1),return_var_name(i,l,t-1))] = quadratic_terms[(return_var_name(i,l,t-1),return_var_name(i,l,t-1))] + (net.thermal_gen[i].power_level[l]* net.thermal_gen[i].power_level[l])\n",
    "                quadratic_terms[(return_var_name(i,k,t),return_var_name(i,l,t-1))] = quadratic_terms[(return_var_name(i,k,t),return_var_name(i,l,t-1))] - 2*(net.thermal_gen[i].power_level[l]* net.thermal_gen[i].power_level[k])\n",
    "for t in range(1, net.time_period):\n",
    "    constant = constant + (int(net.demand[t] + net.reserves[t] + 1) * int(net.demand[t] + net.reserves[t] + 1))\n",
    "    linear_terms[return_var_name(i,k,t)] = linear_terms[return_var_name(i,k,t)] - (2 * int(net.demand[t] + net.reserves[t] + 1) * -net.thermal_gen[i].power_level[k])\n",
    "    for j in range(0, i):\n",
    "        for z in range(0, min(len(net.thermal_gen[j].power_level),k)):\n",
    "            quadratic_terms[(return_var_name(i,k,t),return_var_name(j,z,t))] = quadratic_terms[(return_var_name(i,k,t),return_var_name(j,z,t))] + (2*net.thermal_gen[i].power_level[k]*net.thermal_gen[j].power_level[z])"
   ]
  },
  {
   "cell_type": "code",
   "execution_count": null,
   "metadata": {},
   "outputs": [],
   "source": [
    "qubo.minimize(constant, linear_terms, quadratic_terms)"
   ]
  },
  {
   "cell_type": "code",
   "execution_count": null,
   "metadata": {},
   "outputs": [],
   "source": [
    "from qiskit import BasicAer\n",
    "from qiskit.utils import algorithm_globals, QuantumInstance\n",
    "from qiskit.algorithms import QAOA, NumPyMinimumEigensolver\n",
    "from qiskit_optimization.algorithms import (\n",
    "    MinimumEigenOptimizer,\n",
    "    RecursiveMinimumEigenOptimizer,\n",
    "    SolutionSample,\n",
    "    OptimizationResultStatus,\n",
    ")\n",
    "from qiskit_optimization import QuadraticProgram\n",
    "from qiskit.visualization import plot_histogram\n",
    "from typing import List, Tuple\n",
    "import numpy as np"
   ]
  },
  {
   "cell_type": "code",
   "execution_count": null,
   "metadata": {},
   "outputs": [],
   "source": [
    "op, offset = qubo.to_ising()\n",
    "print(\"offset: {}\".format(offset))\n",
    "print(\"operator:\")\n",
    "print(op)"
   ]
  },
  {
   "cell_type": "code",
   "execution_count": null,
   "metadata": {},
   "outputs": [],
   "source": [
    "algorithm_globals.random_seed = 10598\n",
    "algorithm_globals.massive=True\n",
    "quantum_instance = QuantumInstance(\n",
    "    BasicAer.get_backend(\"qasm_simulator\"),\n",
    "    seed_simulator=algorithm_globals.random_seed,\n",
    "    seed_transpiler=algorithm_globals.random_seed,\n",
    ")\n",
    "qaoa_mes = QAOA(quantum_instance=quantum_instance, initial_point=[0.0, 0.0])\n",
    "exact_mes = NumPyMinimumEigensolver()\n",
    "\n"
   ]
  },
  {
   "cell_type": "code",
   "execution_count": null,
   "metadata": {},
   "outputs": [],
   "source": [
    "qaoa = MinimumEigenOptimizer(qaoa_mes)  # using QAOA\n",
    "exact = MinimumEigenOptimizer(exact_mes) "
   ]
  },
  {
   "cell_type": "code",
   "execution_count": null,
   "metadata": {},
   "outputs": [],
   "source": [
    "import time\n",
    "print(time.perf_counter())\n",
    "qaoa_result = qaoa.solve(qubo)\n",
    "print(time.perf_counter())"
   ]
  },
  {
   "cell_type": "code",
   "execution_count": null,
   "metadata": {},
   "outputs": [],
   "source": [
    "from qiskit_optimization.algorithms import GroverOptimizer\n",
    "backend = BasicAer.get_backend(\"statevector_simulator\")\n",
    "grover_optimizer = GroverOptimizer(6, num_iterations=10, quantum_instance=backend)\n",
    "results = grover_optimizer.solve(qubo)\n"
   ]
  },
  {
   "cell_type": "code",
   "execution_count": null,
   "metadata": {},
   "outputs": [],
   "source": [
    "from qiskit import IBMQ\n",
    "IBMQ.save_account('5451685c55c07da9c6066ee50578d3afbe90c355c7880280f8447bed05b9ad8c041babbb6e0e91148980ac9e7d3bc208046efda4202ab18605f8a656e9fe07bd')\n",
    "IBMQ.load_account()\n",
    "provider = IBMQ.get_provider(hub=\"ibm-q\", group=\"open\", project=\"main\")\n",
    "\n"
   ]
  },
  {
   "cell_type": "code",
   "execution_count": null,
   "metadata": {},
   "outputs": [],
   "source": [
    "program_id = \"qaoa\"\n",
    "qaoa_program = provider.runtime.program(program_id)"
   ]
  },
  {
   "cell_type": "code",
   "execution_count": null,
   "metadata": {},
   "outputs": [],
   "source": [
    "import numpy as np\n",
    "\n",
    "from qiskit.opflow import PauliSumOp, Z, I\n",
    "from qiskit.algorithms.optimizers import SPSA\n",
    "\n",
    "\n",
    "# SPSA helps deal with noisy environments.\n",
    "optimizer = SPSA(maxiter=100)\n",
    "\n",
    "# We will run a depth two QAOA.\n",
    "reps = 2\n",
    "\n",
    "# The initial point for the optimization, chosen at random.\n",
    "initial_point = np.random.random(2 * reps)\n",
    "\n",
    "# The backend that will run the programm.\n",
    "options = {\"backend_name\": \"simulator_stabilizer\"}\n",
    "\n",
    "# The inputs of the program as described above.\n",
    "runtime_inputs = {\n",
    "    \"operator\": op,\n",
    "    \"reps\": reps,\n",
    "    \"optimizer\": optimizer,\n",
    "    \"initial_point\": initial_point,\n",
    "    \"shots\": 2**13,\n",
    "    # Set to True when running on real backends to reduce circuit\n",
    "    # depth by leveraging swap strategies. If False the\n",
    "    # given optimization_level (default is 1) will be used.\n",
    "    \"use_swap_strategies\": False,\n",
    "    # Set to True when optimizing sparse problems.\n",
    "    \"use_initial_mapping\": False,\n",
    "    # Set to true when using echoed-cross-resonance hardware.\n",
    "    \"use_pulse_efficient\": False,\n",
    "}"
   ]
  },
  {
   "cell_type": "code",
   "execution_count": null,
   "metadata": {},
   "outputs": [],
   "source": [
    "job = provider.runtime.run(\n",
    "    program_id=program_id,\n",
    "    options=options,\n",
    "    inputs=runtime_inputs,\n",
    ")"
   ]
  },
  {
   "cell_type": "code",
   "execution_count": null,
   "metadata": {},
   "outputs": [],
   "source": [
    "print(f\"Job id: {job.job_id()}\")\n",
    "print(f\"Bob status: {job.status()}\")"
   ]
  },
  {
   "cell_type": "code",
   "execution_count": null,
   "metadata": {},
   "outputs": [],
   "source": []
  }
 ],
 "metadata": {
  "kernelspec": {
   "display_name": "Python 3",
   "language": "python",
   "name": "python3"
  },
  "language_info": {
   "codemirror_mode": {
    "name": "ipython",
    "version": 3
   },
   "file_extension": ".py",
   "mimetype": "text/x-python",
   "name": "python",
   "nbconvert_exporter": "python",
   "pygments_lexer": "ipython3",
   "version": "3.7.8"
  }
 },
 "nbformat": 4,
 "nbformat_minor": 4
}
